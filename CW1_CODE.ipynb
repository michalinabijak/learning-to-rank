{
 "cells": [
  {
   "cell_type": "markdown",
   "metadata": {},
   "source": [
    "## Set-up"
   ]
  },
  {
   "cell_type": "code",
   "execution_count": 1,
   "metadata": {},
   "outputs": [],
   "source": [
    "import numpy as np\n",
    "import pandas as pd\n",
    "from matplotlib import pyplot as plt\n",
    "import seaborn as sns"
   ]
  },
  {
   "cell_type": "code",
   "execution_count": 2,
   "metadata": {},
   "outputs": [],
   "source": [
    "import nltk\n",
    "import string\n",
    "import contractions \n",
    "import operator\n",
    "from nltk.stem import WordNetLemmatizer"
   ]
  },
  {
   "cell_type": "code",
   "execution_count": 3,
   "metadata": {},
   "outputs": [
    {
     "name": "stderr",
     "output_type": "stream",
     "text": [
      "[nltk_data] Downloading package punkt to\n",
      "[nltk_data]     /Users/michalinabijak/nltk_data...\n",
      "[nltk_data]   Package punkt is already up-to-date!\n",
      "[nltk_data] Downloading package stopwords to\n",
      "[nltk_data]     /Users/michalinabijak/nltk_data...\n",
      "[nltk_data]   Package stopwords is already up-to-date!\n",
      "[nltk_data] Downloading package averaged_perceptron_tagger to\n",
      "[nltk_data]     /Users/michalinabijak/nltk_data...\n",
      "[nltk_data]   Package averaged_perceptron_tagger is already up-to-\n",
      "[nltk_data]       date!\n",
      "[nltk_data] Downloading package wordnet to\n",
      "[nltk_data]     /Users/michalinabijak/nltk_data...\n",
      "[nltk_data]   Package wordnet is already up-to-date!\n"
     ]
    },
    {
     "data": {
      "text/plain": [
       "True"
      ]
     },
     "execution_count": 3,
     "metadata": {},
     "output_type": "execute_result"
    }
   ],
   "source": [
    "nltk.download('punkt')\n",
    "nltk.download('stopwords')\n",
    "nltk.download('averaged_perceptron_tagger')\n",
    "nltk.download('wordnet')"
   ]
  },
  {
   "cell_type": "code",
   "execution_count": 4,
   "metadata": {},
   "outputs": [],
   "source": [
    "pd.options.mode.chained_assignment = None  # default='warn'\n",
    "sns.set(style='white', rc={\"grid.linewidth\": 0.1})\n",
    "sns.set_context(\"paper\", font_scale=1.5) "
   ]
  },
  {
   "cell_type": "markdown",
   "metadata": {},
   "source": [
    "## Data downloading and set-up"
   ]
  },
  {
   "cell_type": "code",
   "execution_count": 5,
   "metadata": {},
   "outputs": [],
   "source": [
    "test_queries = pd.read_csv(\"/.../dataset/test-queries.tsv\", sep=\"\\t\", header=None)\n",
    "passages = pd.read_csv(\"/.../dataset/passage_collection_new.txt\", sep=\"\\t\", header=None)\n",
    "candidate = pd.read_csv(\".../dataset/candidate_passages_top1000.tsv\", sep=\"\\t\", header=None)"
   ]
  },
  {
   "cell_type": "code",
   "execution_count": 6,
   "metadata": {},
   "outputs": [],
   "source": [
    "# rename columns\n",
    "test_queries.columns=[\"qid\", \"query\"]\n",
    "passages.columns=[\"passage\"]\n",
    "candidate.columns=[\"qid\", \"pid\", \"query\", \"passage\"]"
   ]
  },
  {
   "cell_type": "code",
   "execution_count": 7,
   "metadata": {},
   "outputs": [],
   "source": [
    "# helper function, flattens a list of lists\n",
    "flatten = lambda t: [item for sublist in t for item in sublist]"
   ]
  },
  {
   "cell_type": "markdown",
   "metadata": {},
   "source": [
    "## Zipf's Law: pre-processing, ML parameter estimation and verification \n",
    "(Note: not all plots present have been used in the report)"
   ]
  },
  {
   "cell_type": "code",
   "execution_count": 8,
   "metadata": {},
   "outputs": [],
   "source": [
    "from scipy import optimize\n",
    "from scipy.stats import linregress"
   ]
  },
  {
   "cell_type": "code",
   "execution_count": 9,
   "metadata": {},
   "outputs": [],
   "source": [
    "#contract, tokenize and remove punctuation\n",
    "#full_text = [contractions.fix(sentence) for sentence in passages.passage]\n",
    "full_text = [sentence for sentence in passages.passage]\n",
    "full_text = flatten([nltk.word_tokenize(word) for word in full_text])\n",
    "full_text = [word.lower() for word in full_text if word.isalpha()]"
   ]
  },
  {
   "cell_type": "code",
   "execution_count": 10,
   "metadata": {},
   "outputs": [],
   "source": [
    "# frequency distribution of full text\n",
    "fdist = nltk.FreqDist(full_text)"
   ]
  },
  {
   "cell_type": "code",
   "execution_count": 11,
   "metadata": {},
   "outputs": [],
   "source": [
    "# get tokens, frequencies and probabilities sorted in descending order\n",
    "tokens = np.array(sorted(fdist.keys(), key = fdist.get, reverse=True))\n",
    "frequencies = np.array(sorted(fdist.values(), reverse=True))\n",
    "probabilities = np.array(sorted(fdist.values(), reverse=True)) / fdist.N()"
   ]
  },
  {
   "cell_type": "code",
   "execution_count": 12,
   "metadata": {},
   "outputs": [],
   "source": [
    "# define a Maximum Likelihood Estimator for parameter c, based on square error between estimated (c/rank) and true probability\n",
    "def MLE(c):\n",
    "    mle = 0\n",
    "    for i in range(5000):\n",
    "        mle += np.log((probabilities[i] - c/(i+1))**2)\n",
    "    return mle"
   ]
  },
  {
   "cell_type": "code",
   "execution_count": 13,
   "metadata": {},
   "outputs": [],
   "source": [
    "# minimise the ML to get the ML estimate\n",
    "c = optimize.minimize(MLE, x0 = 0.5)"
   ]
  },
  {
   "cell_type": "code",
   "execution_count": 14,
   "metadata": {},
   "outputs": [],
   "source": [
    "# probabilities fitted by Zipf's law, using ML estimate\n",
    "fitted = np.array([c.x/(i+1) for i in range(len(probabilities))])\n",
    "#zipf's law parameter estimates\n",
    "zipfs = np.array([probabilities[i]*(i+1) for i in range(len(probabilities))])"
   ]
  },
  {
   "cell_type": "code",
   "execution_count": 15,
   "metadata": {},
   "outputs": [],
   "source": [
    "mean = np.mean(zipfs)\n",
    "sd = np.std(zipfs)"
   ]
  },
  {
   "cell_type": "code",
   "execution_count": 16,
   "metadata": {},
   "outputs": [],
   "source": [
    "mean_fitted = np.array([np.mean(zipfs)/(i+1) for i in range(len(probabilities))])"
   ]
  },
  {
   "cell_type": "code",
   "execution_count": 17,
   "metadata": {},
   "outputs": [
    {
     "data": {
      "text/plain": [
       "LinregressResult(slope=0.3130482460362021, intercept=-1.8543807492270835e-07, rvalue=0.9715469216059108, pvalue=0.0, stderr=0.00023194964250137956)"
      ]
     },
     "execution_count": 17,
     "metadata": {},
     "output_type": "execute_result"
    }
   ],
   "source": [
    "linregress(probabilities, mean_fitted)"
   ]
  },
  {
   "cell_type": "code",
   "execution_count": 18,
   "metadata": {},
   "outputs": [
    {
     "data": {
      "text/plain": [
       "LinregressResult(slope=1.3697760618526305, intercept=-8.114041180597551e-07, rvalue=0.9715469216059109, pvalue=0.0, stderr=0.001014920453561405)"
      ]
     },
     "execution_count": 18,
     "metadata": {},
     "output_type": "execute_result"
    }
   ],
   "source": [
    "linregress(probabilities, fitted.reshape(-1,))"
   ]
  },
  {
   "cell_type": "code",
   "execution_count": 19,
   "metadata": {},
   "outputs": [
    {
     "data": {
      "text/plain": [
       "<matplotlib.legend.Legend at 0x7f8de2238910>"
      ]
     },
     "execution_count": 19,
     "metadata": {},
     "output_type": "execute_result"
    },
    {
     "data": {
      "image/png": "[encoded data removed]",
      "text/plain": [
       "<Figure size 720x576 with 1 Axes>"
      ]
     },
     "metadata": {},
     "output_type": "display_data"
    }
   ],
   "source": [
    "fig, ax = plt.subplots(figsize = (10,8))\n",
    "ax.plot(probabilities, label = \"Results from collection\")\n",
    "#ax.plot(np.log(estimates1[:5000]), label = \"Zipf's law estimates with parameter c=0.1\")\n",
    "ax.plot(fitted, label = \"Zipf's Law estimates fitted using MLE with Squared Loss\")\n",
    "ax.plot(mean_fitted, label = \"Zipf's Law estimates fitted using a collection average \")\n",
    "plt.xlabel(\"Rank \\n (by decreasing frequency)\")\n",
    "plt.ylabel('Pr(term)')\n",
    "plt.title(\"True and Fitted term probabilities \\n (log scale)\")\n",
    "plt.xscale(\"log\")\n",
    "plt.yscale(\"log\")\n",
    "\n",
    "ax.legend()"
   ]
  },
  {
   "cell_type": "code",
   "execution_count": 20,
   "metadata": {},
   "outputs": [
    {
     "data": {
      "text/plain": [
       "<matplotlib.legend.Legend at 0x7f8ded952550>"
      ]
     },
     "execution_count": 20,
     "metadata": {},
     "output_type": "execute_result"
    },
    {
     "data": {
      "image/png": "[encoded data removed]",
      "text/plain": [
       "<Figure size 720x576 with 1 Axes>"
      ]
     },
     "metadata": {},
     "output_type": "display_data"
    }
   ],
   "source": [
    "fig, ax = plt.subplots(figsize = (10,8))\n",
    "ax.plot(np.log(probabilities), label = \"Results from collection\")\n",
    "#ax.plot(np.log(estimates1[:5000]), label = \"Zipf's law estimates with parameter c=0.1\")\n",
    "ax.plot(np.log(fitted), label = \"Zipf's Law estimates with parameter fitted using MLE with Squared Loss\")\n",
    "\n",
    "plt.xlabel(\"Rank \\n (by decreasing frequency)\")\n",
    "plt.ylabel('log(Pr(term))')\n",
    "plt.title(\"True and Fitted term probabilities \\n (log scale)\")\n",
    "ax.legend()"
   ]
  },
  {
   "cell_type": "code",
   "execution_count": 21,
   "metadata": {},
   "outputs": [],
   "source": [
    "data = {'rank': np.arange(1,51), 'term': tokens[:50], 'frequency': frequencies[:50], 'probability': probabilities[:50], 'estimated c': zipfs[:50]}\n",
    "df = pd.DataFrame(data=data)"
   ]
  },
  {
   "cell_type": "code",
   "execution_count": 22,
   "metadata": {},
   "outputs": [
    {
     "data": {
      "text/html": [
       "<div>\n",
       "<style scoped>\n",
       "    .dataframe tbody tr th:only-of-type {\n",
       "        vertical-align: middle;\n",
       "    }\n",
       "\n",
       "    .dataframe tbody tr th {\n",
       "        vertical-align: top;\n",
       "    }\n",
       "\n",
       "    .dataframe thead th {\n",
       "        text-align: right;\n",
       "    }\n",
       "</style>\n",
       "<table border=\"1\" class=\"dataframe\">\n",
       "  <thead>\n",
       "    <tr style=\"text-align: right;\">\n",
       "      <th></th>\n",
       "      <th>rank</th>\n",
       "      <th>term</th>\n",
       "      <th>frequency</th>\n",
       "      <th>probability</th>\n",
       "      <th>estimated c</th>\n",
       "    </tr>\n",
       "  </thead>\n",
       "  <tbody>\n",
       "    <tr>\n",
       "      <th>0</th>\n",
       "      <td>1</td>\n",
       "      <td>the</td>\n",
       "      <td>622418</td>\n",
       "      <td>0.063159</td>\n",
       "      <td>0.063159</td>\n",
       "    </tr>\n",
       "    <tr>\n",
       "      <th>1</th>\n",
       "      <td>2</td>\n",
       "      <td>of</td>\n",
       "      <td>333417</td>\n",
       "      <td>0.033833</td>\n",
       "      <td>0.067666</td>\n",
       "    </tr>\n",
       "    <tr>\n",
       "      <th>2</th>\n",
       "      <td>3</td>\n",
       "      <td>a</td>\n",
       "      <td>279776</td>\n",
       "      <td>0.028390</td>\n",
       "      <td>0.085169</td>\n",
       "    </tr>\n",
       "    <tr>\n",
       "      <th>3</th>\n",
       "      <td>4</td>\n",
       "      <td>and</td>\n",
       "      <td>253503</td>\n",
       "      <td>0.025724</td>\n",
       "      <td>0.102895</td>\n",
       "    </tr>\n",
       "    <tr>\n",
       "      <th>4</th>\n",
       "      <td>5</td>\n",
       "      <td>to</td>\n",
       "      <td>239403</td>\n",
       "      <td>0.024293</td>\n",
       "      <td>0.121465</td>\n",
       "    </tr>\n",
       "    <tr>\n",
       "      <th>5</th>\n",
       "      <td>6</td>\n",
       "      <td>is</td>\n",
       "      <td>217327</td>\n",
       "      <td>0.022053</td>\n",
       "      <td>0.132317</td>\n",
       "    </tr>\n",
       "    <tr>\n",
       "      <th>6</th>\n",
       "      <td>7</td>\n",
       "      <td>in</td>\n",
       "      <td>198951</td>\n",
       "      <td>0.020188</td>\n",
       "      <td>0.141317</td>\n",
       "    </tr>\n",
       "    <tr>\n",
       "      <th>7</th>\n",
       "      <td>8</td>\n",
       "      <td>for</td>\n",
       "      <td>107559</td>\n",
       "      <td>0.010914</td>\n",
       "      <td>0.087315</td>\n",
       "    </tr>\n",
       "    <tr>\n",
       "      <th>8</th>\n",
       "      <td>9</td>\n",
       "      <td>you</td>\n",
       "      <td>85999</td>\n",
       "      <td>0.008727</td>\n",
       "      <td>0.078539</td>\n",
       "    </tr>\n",
       "    <tr>\n",
       "      <th>9</th>\n",
       "      <td>10</td>\n",
       "      <td>or</td>\n",
       "      <td>85215</td>\n",
       "      <td>0.008647</td>\n",
       "      <td>0.086470</td>\n",
       "    </tr>\n",
       "    <tr>\n",
       "      <th>10</th>\n",
       "      <td>11</td>\n",
       "      <td>that</td>\n",
       "      <td>80853</td>\n",
       "      <td>0.008204</td>\n",
       "      <td>0.090249</td>\n",
       "    </tr>\n",
       "    <tr>\n",
       "      <th>11</th>\n",
       "      <td>12</td>\n",
       "      <td>are</td>\n",
       "      <td>77397</td>\n",
       "      <td>0.007854</td>\n",
       "      <td>0.094245</td>\n",
       "    </tr>\n",
       "    <tr>\n",
       "      <th>12</th>\n",
       "      <td>13</td>\n",
       "      <td>it</td>\n",
       "      <td>68098</td>\n",
       "      <td>0.006910</td>\n",
       "      <td>0.089832</td>\n",
       "    </tr>\n",
       "    <tr>\n",
       "      <th>13</th>\n",
       "      <td>14</td>\n",
       "      <td>as</td>\n",
       "      <td>67491</td>\n",
       "      <td>0.006849</td>\n",
       "      <td>0.095879</td>\n",
       "    </tr>\n",
       "    <tr>\n",
       "      <th>14</th>\n",
       "      <td>15</td>\n",
       "      <td>on</td>\n",
       "      <td>67386</td>\n",
       "      <td>0.006838</td>\n",
       "      <td>0.102568</td>\n",
       "    </tr>\n",
       "    <tr>\n",
       "      <th>15</th>\n",
       "      <td>16</td>\n",
       "      <td>your</td>\n",
       "      <td>61432</td>\n",
       "      <td>0.006234</td>\n",
       "      <td>0.099739</td>\n",
       "    </tr>\n",
       "    <tr>\n",
       "      <th>16</th>\n",
       "      <td>17</td>\n",
       "      <td>with</td>\n",
       "      <td>59374</td>\n",
       "      <td>0.006025</td>\n",
       "      <td>0.102423</td>\n",
       "    </tr>\n",
       "    <tr>\n",
       "      <th>17</th>\n",
       "      <td>18</td>\n",
       "      <td>by</td>\n",
       "      <td>51650</td>\n",
       "      <td>0.005241</td>\n",
       "      <td>0.094340</td>\n",
       "    </tr>\n",
       "    <tr>\n",
       "      <th>18</th>\n",
       "      <td>19</td>\n",
       "      <td>can</td>\n",
       "      <td>50510</td>\n",
       "      <td>0.005125</td>\n",
       "      <td>0.097383</td>\n",
       "    </tr>\n",
       "    <tr>\n",
       "      <th>19</th>\n",
       "      <td>20</td>\n",
       "      <td>an</td>\n",
       "      <td>49818</td>\n",
       "      <td>0.005055</td>\n",
       "      <td>0.101104</td>\n",
       "    </tr>\n",
       "    <tr>\n",
       "      <th>20</th>\n",
       "      <td>21</td>\n",
       "      <td>be</td>\n",
       "      <td>48996</td>\n",
       "      <td>0.004972</td>\n",
       "      <td>0.104407</td>\n",
       "    </tr>\n",
       "    <tr>\n",
       "      <th>21</th>\n",
       "      <td>22</td>\n",
       "      <td>from</td>\n",
       "      <td>47791</td>\n",
       "      <td>0.004850</td>\n",
       "      <td>0.106689</td>\n",
       "    </tr>\n",
       "    <tr>\n",
       "      <th>22</th>\n",
       "      <td>23</td>\n",
       "      <td>this</td>\n",
       "      <td>42695</td>\n",
       "      <td>0.004332</td>\n",
       "      <td>0.099645</td>\n",
       "    </tr>\n",
       "    <tr>\n",
       "      <th>23</th>\n",
       "      <td>24</td>\n",
       "      <td>at</td>\n",
       "      <td>39194</td>\n",
       "      <td>0.003977</td>\n",
       "      <td>0.095451</td>\n",
       "    </tr>\n",
       "    <tr>\n",
       "      <th>24</th>\n",
       "      <td>25</td>\n",
       "      <td>have</td>\n",
       "      <td>33487</td>\n",
       "      <td>0.003398</td>\n",
       "      <td>0.084951</td>\n",
       "    </tr>\n",
       "    <tr>\n",
       "      <th>25</th>\n",
       "      <td>26</td>\n",
       "      <td>not</td>\n",
       "      <td>33411</td>\n",
       "      <td>0.003390</td>\n",
       "      <td>0.088148</td>\n",
       "    </tr>\n",
       "    <tr>\n",
       "      <th>26</th>\n",
       "      <td>27</td>\n",
       "      <td>if</td>\n",
       "      <td>29833</td>\n",
       "      <td>0.003027</td>\n",
       "      <td>0.081736</td>\n",
       "    </tr>\n",
       "    <tr>\n",
       "      <th>27</th>\n",
       "      <td>28</td>\n",
       "      <td>will</td>\n",
       "      <td>27719</td>\n",
       "      <td>0.002813</td>\n",
       "      <td>0.078757</td>\n",
       "    </tr>\n",
       "    <tr>\n",
       "      <th>28</th>\n",
       "      <td>29</td>\n",
       "      <td>was</td>\n",
       "      <td>27235</td>\n",
       "      <td>0.002764</td>\n",
       "      <td>0.080145</td>\n",
       "    </tr>\n",
       "    <tr>\n",
       "      <th>29</th>\n",
       "      <td>30</td>\n",
       "      <td>one</td>\n",
       "      <td>25970</td>\n",
       "      <td>0.002635</td>\n",
       "      <td>0.079058</td>\n",
       "    </tr>\n",
       "    <tr>\n",
       "      <th>30</th>\n",
       "      <td>31</td>\n",
       "      <td>which</td>\n",
       "      <td>25782</td>\n",
       "      <td>0.002616</td>\n",
       "      <td>0.081102</td>\n",
       "    </tr>\n",
       "    <tr>\n",
       "      <th>31</th>\n",
       "      <td>32</td>\n",
       "      <td>name</td>\n",
       "      <td>24248</td>\n",
       "      <td>0.002461</td>\n",
       "      <td>0.078737</td>\n",
       "    </tr>\n",
       "    <tr>\n",
       "      <th>32</th>\n",
       "      <td>33</td>\n",
       "      <td>has</td>\n",
       "      <td>23343</td>\n",
       "      <td>0.002369</td>\n",
       "      <td>0.078167</td>\n",
       "    </tr>\n",
       "    <tr>\n",
       "      <th>33</th>\n",
       "      <td>34</td>\n",
       "      <td>more</td>\n",
       "      <td>23338</td>\n",
       "      <td>0.002368</td>\n",
       "      <td>0.080518</td>\n",
       "    </tr>\n",
       "    <tr>\n",
       "      <th>34</th>\n",
       "      <td>35</td>\n",
       "      <td>i</td>\n",
       "      <td>22087</td>\n",
       "      <td>0.002241</td>\n",
       "      <td>0.078443</td>\n",
       "    </tr>\n",
       "    <tr>\n",
       "      <th>35</th>\n",
       "      <td>36</td>\n",
       "      <td>also</td>\n",
       "      <td>21619</td>\n",
       "      <td>0.002194</td>\n",
       "      <td>0.078975</td>\n",
       "    </tr>\n",
       "    <tr>\n",
       "      <th>36</th>\n",
       "      <td>37</td>\n",
       "      <td>but</td>\n",
       "      <td>21343</td>\n",
       "      <td>0.002166</td>\n",
       "      <td>0.080132</td>\n",
       "    </tr>\n",
       "    <tr>\n",
       "      <th>37</th>\n",
       "      <td>38</td>\n",
       "      <td>when</td>\n",
       "      <td>21286</td>\n",
       "      <td>0.002160</td>\n",
       "      <td>0.082078</td>\n",
       "    </tr>\n",
       "    <tr>\n",
       "      <th>38</th>\n",
       "      <td>39</td>\n",
       "      <td>number</td>\n",
       "      <td>21173</td>\n",
       "      <td>0.002148</td>\n",
       "      <td>0.083791</td>\n",
       "    </tr>\n",
       "    <tr>\n",
       "      <th>39</th>\n",
       "      <td>40</td>\n",
       "      <td>may</td>\n",
       "      <td>20519</td>\n",
       "      <td>0.002082</td>\n",
       "      <td>0.083285</td>\n",
       "    </tr>\n",
       "    <tr>\n",
       "      <th>40</th>\n",
       "      <td>41</td>\n",
       "      <td>other</td>\n",
       "      <td>19844</td>\n",
       "      <td>0.002014</td>\n",
       "      <td>0.082559</td>\n",
       "    </tr>\n",
       "    <tr>\n",
       "      <th>41</th>\n",
       "      <td>42</td>\n",
       "      <td>all</td>\n",
       "      <td>19686</td>\n",
       "      <td>0.001998</td>\n",
       "      <td>0.083899</td>\n",
       "    </tr>\n",
       "    <tr>\n",
       "      <th>42</th>\n",
       "      <td>43</td>\n",
       "      <td>most</td>\n",
       "      <td>19494</td>\n",
       "      <td>0.001978</td>\n",
       "      <td>0.085059</td>\n",
       "    </tr>\n",
       "    <tr>\n",
       "      <th>43</th>\n",
       "      <td>44</td>\n",
       "      <td>about</td>\n",
       "      <td>18883</td>\n",
       "      <td>0.001916</td>\n",
       "      <td>0.084309</td>\n",
       "    </tr>\n",
       "    <tr>\n",
       "      <th>44</th>\n",
       "      <td>45</td>\n",
       "      <td>they</td>\n",
       "      <td>18375</td>\n",
       "      <td>0.001865</td>\n",
       "      <td>0.083906</td>\n",
       "    </tr>\n",
       "    <tr>\n",
       "      <th>45</th>\n",
       "      <td>46</td>\n",
       "      <td>there</td>\n",
       "      <td>17157</td>\n",
       "      <td>0.001741</td>\n",
       "      <td>0.080085</td>\n",
       "    </tr>\n",
       "    <tr>\n",
       "      <th>46</th>\n",
       "      <td>47</td>\n",
       "      <td>s</td>\n",
       "      <td>17136</td>\n",
       "      <td>0.001739</td>\n",
       "      <td>0.081726</td>\n",
       "    </tr>\n",
       "    <tr>\n",
       "      <th>47</th>\n",
       "      <td>48</td>\n",
       "      <td>cost</td>\n",
       "      <td>16677</td>\n",
       "      <td>0.001692</td>\n",
       "      <td>0.081229</td>\n",
       "    </tr>\n",
       "    <tr>\n",
       "      <th>48</th>\n",
       "      <td>49</td>\n",
       "      <td>used</td>\n",
       "      <td>16438</td>\n",
       "      <td>0.001668</td>\n",
       "      <td>0.081733</td>\n",
       "    </tr>\n",
       "    <tr>\n",
       "      <th>49</th>\n",
       "      <td>50</td>\n",
       "      <td>how</td>\n",
       "      <td>16327</td>\n",
       "      <td>0.001657</td>\n",
       "      <td>0.082838</td>\n",
       "    </tr>\n",
       "  </tbody>\n",
       "</table>\n",
       "</div>"
      ],
      "text/plain": [
       "    rank    term  frequency  probability  estimated c\n",
       "0      1     the     622418     0.063159     0.063159\n",
       "1      2      of     333417     0.033833     0.067666\n",
       "2      3       a     279776     0.028390     0.085169\n",
       "3      4     and     253503     0.025724     0.102895\n",
       "4      5      to     239403     0.024293     0.121465\n",
       "5      6      is     217327     0.022053     0.132317\n",
       "6      7      in     198951     0.020188     0.141317\n",
       "7      8     for     107559     0.010914     0.087315\n",
       "8      9     you      85999     0.008727     0.078539\n",
       "9     10      or      85215     0.008647     0.086470\n",
       "10    11    that      80853     0.008204     0.090249\n",
       "11    12     are      77397     0.007854     0.094245\n",
       "12    13      it      68098     0.006910     0.089832\n",
       "13    14      as      67491     0.006849     0.095879\n",
       "14    15      on      67386     0.006838     0.102568\n",
       "15    16    your      61432     0.006234     0.099739\n",
       "16    17    with      59374     0.006025     0.102423\n",
       "17    18      by      51650     0.005241     0.094340\n",
       "18    19     can      50510     0.005125     0.097383\n",
       "19    20      an      49818     0.005055     0.101104\n",
       "20    21      be      48996     0.004972     0.104407\n",
       "21    22    from      47791     0.004850     0.106689\n",
       "22    23    this      42695     0.004332     0.099645\n",
       "23    24      at      39194     0.003977     0.095451\n",
       "24    25    have      33487     0.003398     0.084951\n",
       "25    26     not      33411     0.003390     0.088148\n",
       "26    27      if      29833     0.003027     0.081736\n",
       "27    28    will      27719     0.002813     0.078757\n",
       "28    29     was      27235     0.002764     0.080145\n",
       "29    30     one      25970     0.002635     0.079058\n",
       "30    31   which      25782     0.002616     0.081102\n",
       "31    32    name      24248     0.002461     0.078737\n",
       "32    33     has      23343     0.002369     0.078167\n",
       "33    34    more      23338     0.002368     0.080518\n",
       "34    35       i      22087     0.002241     0.078443\n",
       "35    36    also      21619     0.002194     0.078975\n",
       "36    37     but      21343     0.002166     0.080132\n",
       "37    38    when      21286     0.002160     0.082078\n",
       "38    39  number      21173     0.002148     0.083791\n",
       "39    40     may      20519     0.002082     0.083285\n",
       "40    41   other      19844     0.002014     0.082559\n",
       "41    42     all      19686     0.001998     0.083899\n",
       "42    43    most      19494     0.001978     0.085059\n",
       "43    44   about      18883     0.001916     0.084309\n",
       "44    45    they      18375     0.001865     0.083906\n",
       "45    46   there      17157     0.001741     0.080085\n",
       "46    47       s      17136     0.001739     0.081726\n",
       "47    48    cost      16677     0.001692     0.081229\n",
       "48    49    used      16438     0.001668     0.081733\n",
       "49    50     how      16327     0.001657     0.082838"
      ]
     },
     "execution_count": 22,
     "metadata": {},
     "output_type": "execute_result"
    }
   ],
   "source": [
    "df"
   ]
  },
  {
   "cell_type": "code",
   "execution_count": 23,
   "metadata": {},
   "outputs": [],
   "source": [
    "residuals = probabilities-fitted.reshape(-1,)"
   ]
  },
  {
   "cell_type": "code",
   "execution_count": 24,
   "metadata": {},
   "outputs": [],
   "source": [
    "y = np.arange(len(residuals))"
   ]
  },
  {
   "cell_type": "code",
   "execution_count": 25,
   "metadata": {},
   "outputs": [
    {
     "data": {
      "text/plain": [
       "[<matplotlib.lines.Line2D at 0x7f8df402ed30>]"
      ]
     },
     "execution_count": 25,
     "metadata": {},
     "output_type": "execute_result"
    },
    {
     "data": {
      "image/png": "[encoded data removed]",
      "text/plain": [
       "<Figure size 720x576 with 1 Axes>"
      ]
     },
     "metadata": {},
     "output_type": "display_data"
    }
   ],
   "source": [
    "fig, ax = plt.subplots(figsize = (10,8))\n",
    "plt.scatter(y, residuals, alpha = 0.7)\n",
    "plt.plot(np.zeros(shape=len(residuals)))"
   ]
  },
  {
   "cell_type": "code",
   "execution_count": 26,
   "metadata": {},
   "outputs": [
    {
     "data": {
      "text/plain": [
       "<matplotlib.legend.Legend at 0x7f8df84a7ca0>"
      ]
     },
     "execution_count": 26,
     "metadata": {},
     "output_type": "execute_result"
    },
    {
     "data": {
      "image/png": "[encoded data removed]",
      "text/plain": [
       "<Figure size 720x576 with 1 Axes>"
      ]
     },
     "metadata": {},
     "output_type": "display_data"
    }
   ],
   "source": [
    "fig, ax = plt.subplots(figsize = (10,8))\n",
    "plt.scatter(np.log(probabilities[:10000]), np.log(fitted[:10000].reshape(-1,)),alpha = 0.5)\n",
    "xpoints = ypoints = plt.xlim()\n",
    "plt.plot(xpoints, ypoints, linestyle='--', label = 'identity (perfect fit) line')\n",
    "plt.xlabel('log(Pr(t))')\n",
    "plt.ylabel('log(c/rank)')\n",
    "plt.title(\"True vs Fitted for top 5000 most frequent terms \\n (log scale)\")\n",
    "ax.legend()"
   ]
  },
  {
   "cell_type": "code",
   "execution_count": 27,
   "metadata": {},
   "outputs": [
    {
     "data": {
      "text/plain": [
       "Text(0, 0.5, 'Estimated parameter \\n c = Pr(term) * rank')"
      ]
     },
     "execution_count": 27,
     "metadata": {},
     "output_type": "execute_result"
    },
    {
     "data": {
      "image/png": "[encoded data removed]",
      "text/plain": [
       "<Figure size 720x576 with 1 Axes>"
      ]
     },
     "metadata": {},
     "output_type": "display_data"
    }
   ],
   "source": [
    "fig, ax = plt.subplots(figsize = (10,8))\n",
    "ax.plot(zipfs, label = \"Estimated Parameter\")\n",
    "plt.xlabel(\"Rank \\n (by decreasing frequency)\")\n",
    "plt.title(\"Estimated parameter as a function of term rank\")\n",
    "plt.ylabel(\"Estimated parameter \\n c = Pr(term) * rank\")"
   ]
  },
  {
   "cell_type": "markdown",
   "metadata": {},
   "source": [
    "## Data pre-processing for all other tasks"
   ]
  },
  {
   "cell_type": "code",
   "execution_count": 28,
   "metadata": {},
   "outputs": [],
   "source": [
    "def preprocess_text(database):\n",
    "    '''\n",
    "    using the database as defined in set-up, it preprocesses the text as defined the report \n",
    "    '''\n",
    "    query_filtered = database\n",
    "    stop_words = nltk.corpus.stopwords.words('english')\n",
    "    wordnet_lemmatizer = WordNetLemmatizer()\n",
    "    \n",
    "    # add ca column with processed and tokanised queries\n",
    "    query_filtered['tokenised_query'] = query_filtered['query'].str.replace('[\\W\\d_]', ' ').str.lower()\n",
    "    query_filtered['tokenised_query'] = query_filtered['tokenised_query'].apply(lambda x: ' '.join([word for word in x.split() if word not in stop_words]))\n",
    "    query_filtered['tokenised_query'] = query_filtered['tokenised_query'].apply(lambda x: ' '.join([word for word in x.split() if len(word)>1]))\n",
    "    query_filtered['tokenised_query'] = query_filtered['tokenised_query'].apply(nltk.word_tokenize) \n",
    "    query_filtered['tokenised_query'] = query_filtered['tokenised_query'].apply(lambda x: [wordnet_lemmatizer.lemmatize(word) for word in x])\n",
    "    # add a column with processed and tokanised passages\n",
    "    \n",
    "    \n",
    "    query_filtered['tokenised_passage'] = query_filtered['passage'].str.replace('[\\W\\d_]', ' ').str.lower()\n",
    "    query_filtered['tokenised_passage'] = query_filtered['tokenised_passage'].apply(lambda x: ' '.join([word for word in x.split() if word not in stop_words]))\n",
    "    query_filtered['tokenised_passage'] = query_filtered['tokenised_passage'].apply(lambda x: ' '.join([word for word in x.split() if len(word)>1]))\n",
    "    query_filtered['tokenised_passage'] = query_filtered['tokenised_passage'].apply(nltk.word_tokenize) \n",
    "    query_filtered['tokenised_passage'] = query_filtered['tokenised_passage'].apply(lambda x: [wordnet_lemmatizer.lemmatize(word) for word in x])\n",
    "    \n",
    "    return query_filtered"
   ]
  },
  {
   "cell_type": "code",
   "execution_count": 29,
   "metadata": {},
   "outputs": [
    {
     "name": "stdout",
     "output_type": "stream",
     "text": [
      "CPU times: user 1min 41s, sys: 1.14 s, total: 1min 42s\n",
      "Wall time: 1min 43s\n"
     ]
    }
   ],
   "source": [
    "%%time\n",
    "database = preprocess_text(candidate)"
   ]
  },
  {
   "cell_type": "markdown",
   "metadata": {},
   "source": [
    "## Inverted index and tf-idf"
   ]
  },
  {
   "cell_type": "code",
   "execution_count": 30,
   "metadata": {},
   "outputs": [],
   "source": [
    "def process_passage(passage):\n",
    "    '''\n",
    "    helper function that takes in a tokanised text (e.g.passage) and returns a list of words and their positions \n",
    "    return: {word2: count, word2: count, ....}\n",
    "    '''\n",
    "    #get number of tokens\n",
    "    n = len(passage)\n",
    "    result = {}\n",
    "    for i in range(n):\n",
    "        word = passage[i]\n",
    "        indices = result.setdefault(word, 0)\n",
    "        indices += 1\n",
    "        result[word] = indices\n",
    "    return result"
   ]
  },
  {
   "cell_type": "code",
   "execution_count": 31,
   "metadata": {},
   "outputs": [],
   "source": [
    "def get_inverted_index(dataframe, qid):\n",
    "    '''\n",
    "    returns an inverted index based on passages corresponding to the qid in the input pandas dataframe where:\n",
    "            dataframe['tokenised_passage'] stores tokenised version of the passage,\n",
    "            dataframe['pid'] stores passage id,\n",
    "            dataframe['qid'] stores query id\n",
    "    output: {word1: {passage_id1: count, passage_id2: count,... }, word2: {}, ...}\n",
    "    '''\n",
    "    # check if the query id is present in the dataframe\n",
    "    assert qid in dataframe['qid'].values, 'Query id not in the dataframe '\n",
    "    \n",
    "    passages = dataframe['tokenised_passage'][dataframe['qid']==qid].tolist()\n",
    "    pid = dataframe['pid'][dataframe['qid']==qid].tolist()\n",
    "    query = dataframe['tokenised_query'][dataframe['qid']==qid].tolist()[0]\n",
    "    \n",
    "    inverted_index = {}\n",
    "    for i, passage in enumerate(passages):\n",
    "        # get the dictionary with words and positions for the given passage\n",
    "        passage_dict = process_passage(passage)\n",
    "        for token in passage_dict:\n",
    "            count = passage_dict.get(token) # count of a given word in the passage\n",
    "            cur_values = inverted_index.setdefault(token, {})\n",
    "            cur_values[pid[i]] = count\n",
    "            \n",
    "    return inverted_index\n"
   ]
  },
  {
   "cell_type": "code",
   "execution_count": 32,
   "metadata": {},
   "outputs": [],
   "source": [
    "def get_idf(inverted_index, N):\n",
    "    '''\n",
    "    output: {word1: idf1, word2: idf2, ...} for all words in the corpus of query with qid\n",
    "    with small number added when idf=0 to help with numerical instabilities\n",
    "    '''\n",
    "    idf = {}\n",
    "    \n",
    "    for term in inverted_index:\n",
    "        n_docs = len(inverted_index[term])\n",
    "        term_idf = np.log10(N/n_docs)\n",
    "        if term_idf ==0:\n",
    "            term_idf += 1e-10\n",
    "        idf[term] = term_idf\n",
    "        \n",
    "    return idf"
   ]
  },
  {
   "cell_type": "code",
   "execution_count": 33,
   "metadata": {},
   "outputs": [],
   "source": [
    "def get_tf_idf(dataframe, qid): \n",
    "    '''\n",
    "    caclulates the tf-idf weight for every term corrseponding to qid and creates the vector representations\n",
    "    output1: {pid1: (vector representation), pid2: (vector representation), ...}\n",
    "    where vector representation stores tf-idf weights of each term in corpus (0 in term not present)\n",
    "    output2: query vector reresentation\n",
    "    '''\n",
    "    \n",
    "    assert qid in dataframe['qid'].values, 'Query id not in the dataframe'\n",
    "    \n",
    "    passages = dataframe['tokenised_passage'][dataframe['qid']==qid].tolist()\n",
    "    inverted_index = get_inverted_index(dataframe, qid)\n",
    "    query = dataframe['tokenised_query'][dataframe['qid']==qid].tolist()[0]\n",
    "    \n",
    "    # number of documents in the collection\n",
    "    N = len(passages)\n",
    "    idf = get_idf(inverted_index, N)\n",
    "        \n",
    "    passages = dataframe['tokenised_passage'][dataframe['qid']==qid].tolist()\n",
    "    pid = dataframe['pid'][dataframe['qid']==qid].tolist()\n",
    "    \n",
    "    query_processed = process_passage(query)\n",
    "    # number of documents(passages) in the collection\n",
    "    N = len(passages)\n",
    "    # vocabulary size size:\n",
    "    M = len(inverted_index)\n",
    "    \n",
    "    representation = {key: np.zeros(M) for key in pid}\n",
    "    query_representation = np.zeros(M)\n",
    "    for m, token in enumerate(inverted_index):\n",
    "        cur_idf = idf[token]\n",
    "    \n",
    "        # update query representation:\n",
    "        if token in query:\n",
    "            tf = 1 + np.log(query_processed.get(token))\n",
    "            score = tf*cur_idf\n",
    "            query_representation[m] = score\n",
    "    \n",
    "        # update representations of all docs listed in the inverted index\n",
    "        for doc_id in inverted_index[token]:\n",
    "            tf = 1 + np.log(inverted_index[token].get(doc_id))\n",
    "            score = tf*cur_idf\n",
    "            representation[doc_id][m] = score\n",
    "    \n",
    "    return representation, query_representation\n",
    "              "
   ]
  },
  {
   "cell_type": "markdown",
   "metadata": {},
   "source": []
  },
  {
   "cell_type": "markdown",
   "metadata": {},
   "source": [
    "## Vector Space and BM25 Models"
   ]
  },
  {
   "cell_type": "code",
   "execution_count": 34,
   "metadata": {},
   "outputs": [],
   "source": [
    "def cosine_sim(v, q):\n",
    "    \n",
    "    if (np.dot(q, q) <=0) or (np.dot(v,v) <= 0):\n",
    "        pass\n",
    "    result = np.dot(v,q) / (np.sqrt(np.dot(v, v)) * np.sqrt(np.dot(q, q)))\n",
    "    return result"
   ]
  },
  {
   "cell_type": "code",
   "execution_count": 35,
   "metadata": {},
   "outputs": [],
   "source": [
    "def VS(dataframe, qid):\n",
    "    passages, query = get_tf_idf(dataframe, qid)\n",
    "    \n",
    "    similarities = {}\n",
    "    for passage in passages:\n",
    "        vectorised = passages.get(passage)\n",
    "        sim_score = cosine_sim(query, vectorised)\n",
    "        similarities[passage] = sim_score\n",
    "        \n",
    "    sorted_sim = sorted(similarities.items(), key=lambda value: value[1], reverse=True)\n",
    "    return sorted_sim"
   ]
  },
  {
   "cell_type": "code",
   "execution_count": 36,
   "metadata": {},
   "outputs": [],
   "source": [
    "def BM25(dataframe, qid):\n",
    "    passages = dataframe['tokenised_passage'][dataframe['qid']==qid].tolist()\n",
    "    passage_id = dataframe['pid'][dataframe['qid']==qid].tolist()\n",
    "    inverted_index = get_inverted_index(dataframe, qid)\n",
    "    query = dataframe['tokenised_query'][dataframe['qid']==qid].tolist()[0]\n",
    "    query_processed = process_passage(query)\n",
    "    # size of collection\n",
    "    N = len(passages)\n",
    "    # average document length\n",
    "    avg_D = np.mean([len(passages[i]) for i in range(len(passages))])\n",
    "    \n",
    "    b = 0.75\n",
    "    k1 = 1.2\n",
    "    k2 = 100\n",
    "    \n",
    "    scores = {}\n",
    "\n",
    "    for i, pid in enumerate(passage_id):\n",
    "        estimate = 0\n",
    "        # document length\n",
    "        D = len(passages[i])\n",
    "        K = k1 * ((1-b) + b *(D/avg_D))\n",
    "\n",
    "        for token, positions in query_processed.items():\n",
    "            if token not in inverted_index:\n",
    "                pass\n",
    "            elif sum(inverted_index[token].values()) == 0:\n",
    "                   pass\n",
    "            else:\n",
    "                q = positions\n",
    "\n",
    "                r = 0\n",
    "                R = 0\n",
    "                # get the number of documents token occurs in\n",
    "                n = len(inverted_index[token])\n",
    "\n",
    "                # get the document count for the token\n",
    "                count = inverted_index[token].get(pid,0)\n",
    "\n",
    "                cur_estimate = np.log(((r + 0.5) / (R - r + 0.5)) / ((n-r + 0.5)/(N - n - R + r + 0.5)))\n",
    "                cur_estimate *= ((k1+1)*count)/(K + count)\n",
    "                cur_estimate *= ((k2 + 1)*q) / (k2 + q)\n",
    "                estimate += cur_estimate\n",
    "\n",
    "        scores[pid] = estimate\n",
    "\n",
    "    sorted_scores = sorted(scores.items(), key=lambda value: value[1], reverse=True)\n",
    "    \n",
    "    return sorted_scores"
   ]
  },
  {
   "cell_type": "markdown",
   "metadata": {},
   "source": [
    "## Language Models with smoothing"
   ]
  },
  {
   "cell_type": "code",
   "execution_count": 37,
   "metadata": {},
   "outputs": [],
   "source": [
    "def LM_Dirichlet(dataframe, qid):\n",
    "    \n",
    "    passages = dataframe['tokenised_passage'][dataframe['qid']==qid].tolist()\n",
    "    passage_id = dataframe['pid'][dataframe['qid']==qid].tolist()\n",
    "    inverted_index = get_inverted_index(dataframe, qid)\n",
    "    query = dataframe['tokenised_query'][dataframe['qid']==qid].tolist()[0]\n",
    "    \n",
    "    # size of collection\n",
    "    N = np.sum([len(passages[i]) for i in range(len(passages))])\n",
    "    \n",
    "    # number of documents in the collection\n",
    "    mu = np.mean([len(passages[i]) for i in range(len(passages))])\n",
    "    \n",
    "    logs = {}\n",
    "    \n",
    "    for i, pid in enumerate(passage_id):\n",
    "        estimate = 0\n",
    "        D = len(passages[i])\n",
    "        lmbda = D /(D+mu)\n",
    "        \n",
    "        for token in query:\n",
    "            if token not in inverted_index:\n",
    "                pass\n",
    "            elif sum(inverted_index[token].values()) ==0:\n",
    "                   pass\n",
    "            else:\n",
    "                doc_estimate = 0\n",
    "                col_estimate = 0\n",
    "\n",
    "                # get the document probability\n",
    "                count = inverted_index[token].get(pid,0)\n",
    "                doc_estimate = lmbda * (count/ D)\n",
    "\n",
    "                # get the collection probability\n",
    "                col_estimate = (1-lmbda) * (sum(inverted_index[token].values()) / N)\n",
    "\n",
    "                # update the overall document log-likelihood with token log-likelihood\n",
    "                estimate += np.log(doc_estimate + col_estimate)\n",
    "    \n",
    "        logs[pid] = estimate\n",
    "\n",
    "    sorted_logs = sorted(logs.items(), key=lambda value: value[1], reverse=True)\n",
    "    \n",
    "    return sorted_logs"
   ]
  },
  {
   "cell_type": "code",
   "execution_count": 38,
   "metadata": {},
   "outputs": [],
   "source": [
    "def LM_Laplace(dataframe, qid):\n",
    "    \n",
    "    passages = dataframe['tokenised_passage'][dataframe['qid']==qid].tolist()\n",
    "    passage_id = dataframe['pid'][dataframe['qid']==qid].tolist()\n",
    "    inverted_index = get_inverted_index(dataframe, qid)\n",
    "    query = dataframe['tokenised_query'][dataframe['qid']==qid].tolist()[0]\n",
    "    \n",
    "    # size of collection\n",
    "    N = len(inverted_index)\n",
    "    \n",
    "    likelihoods = {}\n",
    "    \n",
    "    for i, pid in enumerate(passage_id):\n",
    "        doc_estimate = 0\n",
    "        D = len(passages[i])\n",
    "        for token in query:\n",
    "            if token not in inverted_index:\n",
    "                pass\n",
    "            elif sum(inverted_index[token].values()) ==0:\n",
    "                   pass\n",
    "            else:\n",
    "                # get the document probability\n",
    "                count = inverted_index[token].get(pid,0)\n",
    "                doc_estimate += np.log((count+1)/(D + N))\n",
    "        likelihoods[pid] = doc_estimate\n",
    "            \n",
    "    sorted_likelihoods = sorted(likelihoods.items(), key=lambda value: value[1], reverse=True)\n",
    "    \n",
    "    return sorted_likelihoods"
   ]
  },
  {
   "cell_type": "code",
   "execution_count": 39,
   "metadata": {},
   "outputs": [],
   "source": [
    "def LM_Lidstone(dataframe, qid):\n",
    "    passages = dataframe['tokenised_passage'][dataframe['qid']==qid].tolist()\n",
    "    passage_id = dataframe['pid'][dataframe['qid']==qid].tolist()\n",
    "    inverted_index = get_inverted_index(dataframe, qid)\n",
    "    query = dataframe['tokenised_query'][dataframe['qid']==qid].tolist()[0]\n",
    "    \n",
    "    # size of collection\n",
    "    N = len(inverted_index)\n",
    "    \n",
    "    epsilon = 5e-1\n",
    "    likelihoods = {}\n",
    "    \n",
    "    for i, pid in enumerate(passage_id):\n",
    "        doc_estimate = 0\n",
    "        D = len(passages[i])\n",
    "        for token in query:\n",
    "            if token not in inverted_index:\n",
    "                pass\n",
    "            elif sum(inverted_index[token].values()) ==0:\n",
    "                   pass\n",
    "            else:\n",
    "                # get the document probability\n",
    "                count = inverted_index[token].get(pid,0)\n",
    "                doc_estimate += np.log((count+epsilon) / (D + epsilon*N))\n",
    "        likelihoods[pid] = doc_estimate\n",
    "    \n",
    "    sorted_likelihoods = sorted(likelihoods.items(), key=lambda value: value[1], reverse=True)\n",
    "    return sorted_likelihoods"
   ]
  },
  {
   "cell_type": "markdown",
   "metadata": {},
   "source": [
    "## File writing "
   ]
  },
  {
   "cell_type": "code",
   "execution_count": 40,
   "metadata": {},
   "outputs": [],
   "source": [
    "def write_file(dataframe, algoname):\n",
    "    '''\n",
    "    writes a .txt file in a format:\n",
    "    <qid A1 pid rank score algoname>\n",
    "    '''\n",
    "    \n",
    "    f = open(f\"{algoname}.txt\", \"w\")\n",
    "        \n",
    "    for query in dataframe['qid'].unique():\n",
    "        # get best 100 passages\n",
    "        if algoname == \"VS\":\n",
    "            scores = VS(dataframe, query)[:100]\n",
    "        elif algoname == \"LM_Dirichlet\":\n",
    "            scores = LM_Dirichlet(dataframe, query)[:100]\n",
    "        elif algoname == \"LM_Laplace\":\n",
    "            scores = LM_Laplace(dataframe, query)[:100]\n",
    "        elif algoname == \"LM_Lidstone\":\n",
    "            scores = LM_Lidstone(dataframe, query)[:100]\n",
    "        elif algoname == \"BM25\":\n",
    "            scores = BM25(dataframe, query)[:100]\n",
    "        else:\n",
    "            print(\"Algorithm name not recognised\")\n",
    "            return\n",
    "        # write .txt file as requested\n",
    "        for i, sim in enumerate(scores):\n",
    "            line = f'{query} A1 {sim[0]} {i + 1} {sim[1]} {algoname} \\n'\n",
    "            f.write(line)          "
   ]
  },
  {
   "cell_type": "code",
   "execution_count": 41,
   "metadata": {},
   "outputs": [
    {
     "name": "stdout",
     "output_type": "stream",
     "text": [
      "CPU times: user 2 µs, sys: 1e+03 ns, total: 3 µs\n",
      "Wall time: 5.25 µs\n"
     ]
    }
   ],
   "source": [
    "%%time\n",
    "# uncomment the below to write the required text file for all algorithms\n",
    "#algos = [\"VS\", \"BM25\", \"LM_Dirichlet\", \"LM_Laplace\", \"LM_Lidstone\"]\n",
    "#for algoname in algos:\n",
    "#    write_file(database, algoname)"
   ]
  },
  {
   "cell_type": "code",
   "execution_count": null,
   "metadata": {},
   "outputs": [],
   "source": []
  }
 ],
 "metadata": {
  "kernelspec": {
   "display_name": "Python 3",
   "language": "python",
   "name": "python3"
  },
  "language_info": {
   "codemirror_mode": {
    "name": "ipython",
    "version": 3
   },
   "file_extension": ".py",
   "mimetype": "text/x-python",
   "name": "python",
   "nbconvert_exporter": "python",
   "pygments_lexer": "ipython3",
   "version": "3.8.5"
  }
 },
 "nbformat": 4,
 "nbformat_minor": 4
}
